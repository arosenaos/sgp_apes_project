{
 "cells": [
  {
   "cell_type": "code",
   "execution_count": 1,
   "metadata": {},
   "outputs": [],
   "source": [
    "import pandas as pd\n",
    "from func import cal_buoyancy,sounding_cal\n",
    "import glob\n",
    "import os\n",
    "from haversine import haversine, Unit\n",
    "import re\n",
    "import datetime\n",
    "import metpy.calc as mpcalc\n",
    "from metpy.units import units\n",
    "from metpy import constants\n",
    "from metpy.cbook import get_test_data\n",
    "from metpy.plots import add_metpy_logo, SkewT\n",
    "from scipy.interpolate import interp1d\n",
    "from scipy.optimize import bisect\n",
    "import numpy as np\n",
    "import pickle\n",
    "import numpy as np\n",
    "import math\n",
    "import pint\n",
    "import seaborn as sns\n",
    "from pydoc import help\n",
    "from sklearn.preprocessing import QuantileTransformer\n",
    "import xarray as xr\n",
    "import netCDF4 as nc\n",
    "import re\n",
    "import matplotlib.pyplot as plt\n",
    "from numpy import load\n",
    "from numpy import asarray\n",
    "from numpy import save\n",
    "import pytz\n",
    "from scipy import stats\n",
    "from sklearn.linear_model import LinearRegression\n",
    "from collections import Counter\n",
    "import pymannkendall as mk\n",
    "%matplotlib inline\n",
    "\n",
    "import warnings\n",
    "warnings.filterwarnings(\"ignore\")"
   ]
  },
  {
   "cell_type": "code",
   "execution_count": 2,
   "metadata": {},
   "outputs": [],
   "source": [
    "pd.set_option('display.max_rows', None)\n",
    "pd.set_option('display.max_columns', None)"
   ]
  },
  {
   "cell_type": "code",
   "execution_count": 4,
   "metadata": {},
   "outputs": [
    {
     "data": {
      "text/plain": [
       "(2626, 11)"
      ]
     },
     "execution_count": 4,
     "metadata": {},
     "output_type": "execute_result"
    }
   ],
   "source": [
    "with open('soundings_fig1&4.pkl', 'rb') as file:\n",
    "    soundings = pickle.load(file)\n",
    "soundings.shape"
   ]
  },
  {
   "cell_type": "code",
   "execution_count": 5,
   "metadata": {},
   "outputs": [],
   "source": [
    "#gaoyoun's method\n",
    "\n",
    "def cal_ctp_hi(temperature,dewpoint,pressure,altitude):\n",
    "\t'''\n",
    "\tINPUT:\n",
    "\t\ttemperature \n",
    "\t\tdewpoint\n",
    "\t\tpressure\n",
    "\t\taltitude \n",
    "  Note: all input should have metpy.units but altitude\n",
    "\tOUTPUT:\n",
    "\t\tctp  : Convectie trigering Potential\n",
    "\t\thi\t  : Humidity index\n",
    "\t\tmoist_t : moist adiabatic temperature profile from 1km to 3km AGL\n",
    "\t\tcal_p   : Pressure profile from 1km to 3km AGL\n",
    "\t'''\n",
    "\talt = altitude    \n",
    "\tstart_index = np.where(alt == alt[0]+1000)[0][0]\n",
    "\tend_index   = np.where(alt == alt[0]+3000)[0][0]\n",
    "\tcal_p = pressure[start_index:end_index+1]\n",
    "\tcal_t = temperature[start_index:end_index+1]\n",
    "\n",
    "\tmoist_t = mpcalc.moist_lapse(pressure = cal_p, \n",
    "\t            temperature = cal_t[0])\n",
    "\tp_level = np.arange(1000,500,-2)*units('hPa')\n",
    "\tmoist_temp = mpcalc.moist_lapse(pressure = p_level, \n",
    "\t            temperature = cal_t[0],\n",
    "\t            reference_pressure = cal_p[0]).to(units.degC)\n",
    "\tmoist_t = np.interp(cal_p.magnitude[::-1],p_level.magnitude[::-1],moist_temp.magnitude[::-1])[::-1]*moist_temp.units\n",
    "\t#ctp0 = np.trapz((moist_t-cal_t)[::-1],cal_p[::-1])\n",
    "\tctp1 = (constants.Rd*(np.trapz((moist_t.magnitude-cal_t.magnitude)[::-1],np.log(cal_p.magnitude)[::-1])* units.degK)).to(units('J/kg'))    \n",
    "\n",
    "\tindex0 = np.where(alt == alt[0]+500)[0][0]\n",
    "\tindex1 = np.where(alt == alt[0]+1500)[0][0]\n",
    "\thi  = temperature[index0]-dewpoint[index0]+temperature[index1]-dewpoint[index1]\n",
    "\treturn ctp1.magnitude,hi.magnitude,moist_t.magnitude,cal_p"
   ]
  },
  {
   "cell_type": "code",
   "execution_count": 6,
   "metadata": {},
   "outputs": [],
   "source": [
    "soundings['ctp']=\"\"\n",
    "\n",
    "soundings['hilow']=\"\"\n",
    "\n",
    "for i in range(soundings.shape[0]):\n",
    "    \n",
    "    row = soundings.iloc[i,:]\n",
    "\n",
    "    temperature = row['interp_temp'] * units.degC\n",
    "\n",
    "    dewpoint = row['interp_dp']  * units.degC\n",
    "\n",
    "    pressure = row['interp_pres'] * units.hPa\n",
    "\n",
    "    altitude = row['interp_alt']\n",
    "\n",
    "    ctphi = cal_ctp_hi(temperature, dewpoint, pressure, altitude)\n",
    "    \n",
    "    soundings['ctp'][i] = ctphi[0]\n",
    "    \n",
    "    soundings['hilow'][i] = ctphi[1]\n"
   ]
  },
  {
   "cell_type": "code",
   "execution_count": 8,
   "metadata": {},
   "outputs": [],
   "source": [
    "#for figure 2&3 reproduction\n",
    "\n",
    "with open('soundings_ctp_hilow.pkl', 'wb') as file:\n",
    "    \n",
    "    pickle.dump(soundings, file)"
   ]
  },
  {
   "cell_type": "code",
   "execution_count": 9,
   "metadata": {},
   "outputs": [
    {
     "data": {
      "text/plain": [
       "(2626, 13)"
      ]
     },
     "execution_count": 9,
     "metadata": {},
     "output_type": "execute_result"
    }
   ],
   "source": [
    "soundings.shape"
   ]
  },
  {
   "cell_type": "markdown",
   "metadata": {},
   "source": [
    "Running cal_buoyancy in order to calculate CAPE"
   ]
  },
  {
   "cell_type": "code",
   "execution_count": 7,
   "metadata": {},
   "outputs": [],
   "source": [
    "# %run /home/annierosen16/func.ipynb\n",
    "\n",
    "#calculate cape test, too large with this method\n",
    "\n",
    "# soundings['cape']=\"\"\n",
    "\n",
    "# for i in range(soundings.shape[0]):\n",
    "\n",
    "#     row = soundings.iloc[i,:]\n",
    "\n",
    "#     t = row['interp_temp'] * units.degC\n",
    "\n",
    "#     dp = row['interp_dp']  * units.degC\n",
    "\n",
    "#     p = row['interp_pres'] * units.hPa\n",
    "\n",
    "#     pres, temp, dewpt, prof = mpcalc.parcel_profile_with_lcl(p, t, dp)\n",
    "\n",
    "#     cape, cin = cape_cin(pressure=pres, temperature=temp, dewpoint=dewpt, parcel_profile=prof)\n",
    "    \n",
    "#     soundings['cape'][i] = cape.magnitude\n",
    "    \n",
    "\n",
    "# cape_mean = soundings.groupby('tercile')['cape'].mean()\n",
    "    \n",
    "# print(cape_mean)"
   ]
  },
  {
   "cell_type": "code",
   "execution_count": 8,
   "metadata": {},
   "outputs": [],
   "source": [
    "#cape test with gaoyun code\n",
    "\n",
    "# %run /home/annierosen16/func2.ipynb\n",
    "\n",
    "# %run /home/annierosen16/func.ipynb\n",
    "\n",
    "# soundings['capetest']=\"\"\n",
    "\n",
    "# for i in range(soundings.shape[0]):\n",
    "\n",
    "#     row = soundings.iloc[i,:]\n",
    "\n",
    "#     t = row['interp_temp'] * units.degC\n",
    "\n",
    "#     dp = row['interp_dp']  * units.degC\n",
    "\n",
    "#     p = row['interp_pres'] * units.hPa\n",
    "\n",
    "#     h = row['interp_alt'] * units.meter\n",
    "\n",
    "#     capetest = sounding_cal(pressure=p, temperature=t, dewpt=dp)\n",
    "#     print(capetest.p_buoyancy.magnitude)\n",
    "    \n",
    "#     soundings['capetest'][i] = capetest.p_buoyancy.magnitude\n",
    "    \n",
    "\n",
    "# result = sounding_cal_byH(height=h, press=p, temperature=t , dewpt=dp, parcel_temperature_profile=None,specific_height_start=None, specific_height_end=None, low_alt = [0,])\n",
    "\n",
    "# cape_meantest = soundings.groupby('tercile')['capetest'].mean()\n",
    "\n",
    "# prof = parcel_profile_with_lcl(p, t, dp)\n",
    "\n",
    "# plt.plot(prof[3],prof[0])\n",
    "# plt.gca().invert_yaxis()"
   ]
  },
  {
   "cell_type": "code",
   "execution_count": 23,
   "metadata": {},
   "outputs": [
    {
     "data": {
      "text/plain": [
       "(2435, 16)"
      ]
     },
     "execution_count": 23,
     "metadata": {},
     "output_type": "execute_result"
    }
   ],
   "source": [
    "# annie -- hilow\n",
    "\n",
    "# def calculate_hi_low(row):\n",
    "    \n",
    "#     pres = row['interp_pres']\n",
    "\n",
    "#     _50_hpa = pres[0] - 50\n",
    "#     _50_hpa_index = np.argmax(pres <= _50_hpa)\n",
    "\n",
    "#     _150_hpa = pres[0] - 150\n",
    "#     _150_hpa_index = np.argmax(pres <= _150_hpa)\n",
    "\n",
    "#     tdry_50 = row['interp_temp'][_50_hpa_index]\n",
    "#     dp_50 = row['interp_dp'][_50_hpa_index]\n",
    "\n",
    "#     tdry_150 = row['interp_temp'][_150_hpa_index]\n",
    "#     dp_150 = row['interp_dp'][_150_hpa_index]\n",
    "\n",
    "#     return (tdry_150 - dp_150) + (tdry_50 - dp_50)\n",
    "\n",
    "# soundings['hilow'] = soundings.apply(calculate_hi_low, axis=1)\n",
    "\n",
    "# soundings.shape"
   ]
  },
  {
   "cell_type": "code",
   "execution_count": 24,
   "metadata": {},
   "outputs": [],
   "source": [
    "annie -- ctp\n",
    "\n",
    "def calculate_ctp(row):\n",
    "    \n",
    "    alt = row['interp_alt']\n",
    "\n",
    "    pres = row['interp_pres'] * units.hPa\n",
    "\n",
    "    altmin = 1000\n",
    "\n",
    "    altmax = 3000\n",
    "\n",
    "    index_1000m_agl = np.argwhere(alt >= altmin).min()\n",
    "\n",
    "    index_3000m_agl = np.argwhere(alt >= altmax).min()\n",
    "\n",
    "    pressure_at_1000m_agl = pres[index_1000m_agl]\n",
    "\n",
    "    alt_range = (alt >= altmin) & (alt <= altmax)\n",
    "\n",
    "    tdry = row['interp_temp'] * units.degC\n",
    "\n",
    "    temp_at_1000m_agl = tdry[index_1000m_agl]\n",
    "\n",
    "    moist_lapse_profile = mpcalc.moist_lapse(pres, temp_at_1000m_agl, reference_pressure=pressure_at_1000m_agl)\n",
    "\n",
    "    tparcel = np.array(moist_lapse_profile[alt_range])\n",
    "    \n",
    "    tparcel = tparcel + 273.15\n",
    "\n",
    "    tenv = np.array(tdry[alt_range])\n",
    "    \n",
    "    tenv = tenv + 273.15\n",
    "\n",
    "    y = (tparcel - tenv)/tenv\n",
    "\n",
    "    x = alt[alt_range]\n",
    "    \n",
    "    presrange = pres[alt_range]\n",
    "\n",
    "#     ctp = constants.g*np.trapz(y, x)\n",
    "    \n",
    "#     gaoyun's method:\n",
    "    ctp = (constants.Rd*(np.trapz((tparcel-tenv)[::-1],np.log(presrange.magnitude)[::-1])* units.degK)).to(units('J/kg')) \n",
    "    \n",
    "#     print(abs(ctp.magnitude-ctpg.magnitude))\n",
    "    \n",
    "    return ctp.magnitude\n",
    "    \n",
    "\n",
    "soundings['ctp'] = soundings.apply(calculate_ctp, axis=1)\n",
    "\n",
    "plt.figure(figsize=(6, 4))\n",
    "plt.hist(soundings['ctp'], bins=30, edgecolor='black')\n",
    "plt.xlabel('ctp')\n",
    "plt.title('CTP Distribution')\n",
    "plt.ylabel('Frequency')\n",
    "plt.show()"
   ]
  },
  {
   "cell_type": "code",
   "execution_count": 43,
   "metadata": {
    "scrolled": false
   },
   "outputs": [],
   "source": [
    "# comp = soundings[['ctp','ctp_annie','hilow','hilow_annie']]"
   ]
  },
  {
   "cell_type": "code",
   "execution_count": 12,
   "metadata": {},
   "outputs": [],
   "source": []
  },
  {
   "cell_type": "code",
   "execution_count": null,
   "metadata": {},
   "outputs": [],
   "source": []
  }
 ],
 "metadata": {
  "kernelspec": {
   "display_name": "annieenv",
   "language": "python",
   "name": "annieenv"
  },
  "language_info": {
   "codemirror_mode": {
    "name": "ipython",
    "version": 3
   },
   "file_extension": ".py",
   "mimetype": "text/x-python",
   "name": "python",
   "nbconvert_exporter": "python",
   "pygments_lexer": "ipython3",
   "version": "3.9.19"
  }
 },
 "nbformat": 4,
 "nbformat_minor": 2
}
