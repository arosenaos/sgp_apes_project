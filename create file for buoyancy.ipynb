{
 "cells": [
  {
   "cell_type": "code",
   "execution_count": 2,
   "metadata": {},
   "outputs": [],
   "source": [
    "import pandas as pd\n",
    "import glob\n",
    "import os\n",
    "import re\n",
    "import datetime\n",
    "import metpy.calc as mpcalc\n",
    "from metpy.units import units\n",
    "from metpy.cbook import get_test_data\n",
    "from metpy.plots import add_metpy_logo, SkewT\n",
    "from pyhdf import SD\n",
    "from scipy.interpolate import interp1d\n",
    "from scipy.optimize import bisect\n",
    "import numpy as np\n",
    "import pickle\n",
    "import numpy as np\n",
    "import math\n",
    "import pint\n",
    "from pydoc import help\n",
    "from pyhdf.SD import *\n",
    "import xarray as xr\n",
    "import netCDF4 as nc\n",
    "import re\n",
    "import matplotlib.pyplot as plt\n",
    "from numpy import load\n",
    "from numpy import asarray\n",
    "from numpy import save\n",
    "import pytz\n",
    "from scipy import stats\n",
    "from sklearn.linear_model import LinearRegression\n",
    "from collections import Counter\n",
    "import pymannkendall as mk\n",
    "%matplotlib inline"
   ]
  },
  {
   "cell_type": "code",
   "execution_count": null,
   "metadata": {},
   "outputs": [],
   "source": [
    "#read in warm season 11:30CDT files\n",
    "\n",
    "directory_path = \"../../data/rong1/climate_fu/Data/DOEARM/sgp/sondewnpn\"\n",
    "\n",
    "# file name looks like: sgpsondewnpnC1.b1.20211023.214500.cdf\n",
    "\n",
    "# all files in directory\n",
    "files = [\n",
    "    os.path.join(directory_path, file)\n",
    "    for file in os.listdir(directory_path)\n",
    "    if file.endswith(\".cdf\")\n",
    "]\n",
    "\n",
    "filtered_files = []\n",
    "for file in files:\n",
    "    file_name = os.path.basename(file)\n",
    "    year_month = file_name.split('.')[2]\n",
    "    if len(year_month) == 8:\n",
    "        year = int(year_month[0:4])\n",
    "        month = int(year_month[4:6])\n",
    "        day = int(year_month[6:8])\n",
    "        hours_mins_seconds = file_name.split('.')[3]\n",
    "        hour = int(hours_mins_seconds[0:2])\n",
    "        if 5 <= month <= 9 and hour == 17:\n",
    "            filtered_files.append(file)\n",
    "\n",
    "ds = xr.open_mfdataset(filtered_files)"
   ]
  },
  {
   "cell_type": "code",
   "execution_count": null,
   "metadata": {},
   "outputs": [],
   "source": []
  }
 ],
 "metadata": {
  "kernelspec": {
   "display_name": "annieenv",
   "language": "python",
   "name": "annieenv"
  },
  "language_info": {
   "codemirror_mode": {
    "name": "ipython",
    "version": 3
   },
   "file_extension": ".py",
   "mimetype": "text/x-python",
   "name": "python",
   "nbconvert_exporter": "python",
   "pygments_lexer": "ipython3",
   "version": "3.9.13"
  }
 },
 "nbformat": 4,
 "nbformat_minor": 2
}
