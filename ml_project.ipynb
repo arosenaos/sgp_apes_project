{
 "cells": [
  {
   "cell_type": "markdown",
   "metadata": {},
   "source": [
    "## Creating Soundings DataFrame"
   ]
  },
  {
   "cell_type": "code",
   "execution_count": 318,
   "metadata": {},
   "outputs": [],
   "source": [
    "import pandas as pd\n",
    "import seaborn as sb\n",
    "from func import cal_buoyancy, sounding_cal\n",
    "import glob\n",
    "import os\n",
    "import re\n",
    "import datetime\n",
    "import metpy.calc as mpcalc\n",
    "from metpy.units import units\n",
    "from metpy.cbook import get_test_data\n",
    "from metpy.plots import add_metpy_logo, SkewT\n",
    "from pyhdf import SD\n",
    "from scipy.interpolate import interp1d\n",
    "from scipy.optimize import bisect\n",
    "import numpy as np\n",
    "import pickle\n",
    "import math\n",
    "import pint\n",
    "from pydoc import help\n",
    "from sklearn.model_selection import train_test_split\n",
    "from sklearn.preprocessing import StandardScaler\n",
    "from sklearn import metrics\n",
    "from sklearn.svm import SVC\n",
    "from xgboost import XGBClassifier\n",
    "from sklearn.linear_model import LogisticRegression\n",
    "from imblearn.over_sampling import RandomOverSampler\n",
    "from pyhdf.SD import *\n",
    "import xarray as xr\n",
    "import netCDF4 as nc\n",
    "import matplotlib.pyplot as plt\n",
    "from numpy import load, asarray, save\n",
    "import pytz\n",
    "from scipy import stats\n",
    "from sklearn.linear_model import LinearRegression\n",
    "from collections import Counter\n",
    "import pymannkendall as mk\n",
    "\n",
    "from sklearn.ensemble import RandomForestClassifier\n",
    "from sklearn.metrics import accuracy_score, confusion_matrix, precision_score, recall_score, ConfusionMatrixDisplay\n",
    "from sklearn.model_selection import RandomizedSearchCV\n",
    "from scipy.stats import randint\n",
    "\n",
    "from sklearn.tree import export_graphviz\n",
    "from IPython.display import Image\n",
    "%matplotlib inline\n",
    "\n",
    "import warnings\n",
    "warnings.filterwarnings(\"ignore\")"
   ]
  },
  {
   "cell_type": "code",
   "execution_count": 403,
   "metadata": {},
   "outputs": [],
   "source": [
    "#read in warm season 11:30CDT files\n",
    "\n",
    "directory_path = \"../../data/rong1/climate_fu/Data/DOEARM/sgp/sondewnpn\"\n",
    "\n",
    "# file name looks like: sgpsondewnpnC1.b1.20211023.214500.cdf\n",
    "\n",
    "# all files in directory\n",
    "files = [\n",
    "    os.path.join(directory_path, file)\n",
    "    for file in os.listdir(directory_path)\n",
    "    if file.endswith(\".cdf\")\n",
    "]\n",
    "\n",
    "filtered_files = []\n",
    "for file in files:\n",
    "    file_name = os.path.basename(file)\n",
    "    year_month = file_name.split('.')[2]\n",
    "    if len(year_month) == 8:\n",
    "        year = int(year_month[0:4])\n",
    "        month = int(year_month[4:6])\n",
    "        day = int(year_month[6:8])\n",
    "        hours_mins_seconds = file_name.split('.')[3]\n",
    "        hour = int(hours_mins_seconds[0:2])\n",
    "        if 5 <= month <= 9 and hour == 17:\n",
    "            filtered_files.append(file)\n",
    "\n",
    "dfs = []\n",
    "for ds in sorted(filtered_files):\n",
    "    ds = xr.open_dataset(ds)\n",
    "    dfs.append(ds)"
   ]
  },
  {
   "cell_type": "code",
   "execution_count": 404,
   "metadata": {},
   "outputs": [],
   "source": [
    "def time_adjustment(file):\n",
    "    bt = file.variables[\"base_time\"].data\n",
    "    t = file.coords[\"time\"].data[0]\n",
    "    t_off = file.variables[\"time_offset\"].data[0]\n",
    "    \n",
    "    bt = pd.Timestamp(bt)\n",
    "    t_off = pd.Timestamp(t_off)\n",
    "    \n",
    "    yr = bt.year\n",
    "    month = bt.month\n",
    "    day = bt.day\n",
    "    \n",
    "    if bt.hour == 0 and bt.minute == 0 and bt.second == 0:\n",
    "        hr = t_off.hour\n",
    "        minute = t_off.minute\n",
    "        second = t_off.second\n",
    "    else:\n",
    "        hr = bt.hour\n",
    "        minute = bt.minute\n",
    "        second = bt.second\n",
    "    \n",
    "    time_final = (yr, month, day, hr, minute, second)\n",
    "    time_final = datetime.datetime(*time_final)\n",
    "    return(time_final)"
   ]
  },
  {
   "cell_type": "code",
   "execution_count": 405,
   "metadata": {},
   "outputs": [],
   "source": [
    "#clean relevant variables: pressure, dewpoint, height\n",
    "\n",
    "df_fill_nans = []\n",
    "# Iterate through the list of xarray datasets\n",
    "\n",
    "for df in dfs:\n",
    "    time = time_adjustment(df)\n",
    "\n",
    "    #clean pressure\n",
    "    pres = df.variables['pres'].data\n",
    "    \n",
    "    pres_lower_bound = 0\n",
    "    pres_upper_bound = 1100\n",
    "\n",
    "    mask = (pres < pres_lower_bound) | (pres > pres_upper_bound)\n",
    "\n",
    "    pres_clean = np.where(mask, np.nan, pres)\n",
    "    \n",
    "    #clean altitude\n",
    "    alt = df.variables['alt'].data\n",
    "    \n",
    "    alt_lower_bound = 313\n",
    "    alt_upper_bound = 30000\n",
    "    \n",
    "    mask = (alt < alt_lower_bound) | (alt > alt_upper_bound)\n",
    "\n",
    "    alt_clean = np.where(mask, np.nan, alt)\n",
    "    \n",
    "    #clean dewpoint\n",
    "    dp = df.variables['dp'].data\n",
    "\n",
    "    dp_lower_bound = -110\n",
    "    dp_upper_bound = 50\n",
    "    \n",
    "    mask = (dp < dp_lower_bound) | (dp > dp_upper_bound)\n",
    "\n",
    "    dp_clean = np.where(mask, np.nan, dp)\n",
    "    \n",
    "#   clean temperature\n",
    "    tdry = df.variables['tdry'].data\n",
    "    \n",
    "    tdry_lower_bound = -200\n",
    "    tdry_upper_bound = 200\n",
    "    \n",
    "    mask = (tdry < tdry_lower_bound) | (tdry > tdry_upper_bound)\n",
    "    \n",
    "    tdry_clean = np.where(mask, np.nan, tdry)\n",
    "    \n",
    "    cleaned_arrays=(time, pres_clean, alt_clean, dp_clean, tdry_clean)\n",
    "    \n",
    "    df_fill_nans.append(cleaned_arrays)\n",
    "    \n",
    "df_fill_nans = pd.DataFrame(df_fill_nans, columns=['time','pres','alt','dp','tdry'])\n",
    "df_fill_nans = df_fill_nans.set_index('time')\n",
    "\n",
    "#dropping duplicates along index\n",
    "df_fill_nans = df_fill_nans[~df_fill_nans.index.duplicated(keep='first')]"
   ]
  },
  {
   "cell_type": "code",
   "execution_count": 427,
   "metadata": {},
   "outputs": [
    {
     "data": {
      "text/plain": [
       "(2437, 4)"
      ]
     },
     "execution_count": 427,
     "metadata": {},
     "output_type": "execute_result"
    }
   ],
   "source": [
    "df_fill_nans.shape"
   ]
  },
  {
   "cell_type": "code",
   "execution_count": 428,
   "metadata": {},
   "outputs": [
    {
     "name": "stdout",
     "output_type": "stream",
     "text": [
      "(2437, 4)\n",
      "final df:  (2397, 4)\n"
     ]
    }
   ],
   "source": [
    "#warm season soundings final df \n",
    "\n",
    "print(df_fill_nans.shape)\n",
    "def count_nans(arr):\n",
    "    return np.isnan(arr).sum()\n",
    "\n",
    "def count_non_nan(arr):\n",
    "    return arr.shape[0]\n",
    "\n",
    "def get_max_alt(arr):\n",
    "    return arr.max()\n",
    "\n",
    "# Apply the function to the specified column and create a mask for rows with <= 10 NaN values\n",
    "max_nans = 0\n",
    "\n",
    "mask = df_fill_nans['pres'].apply(count_nans) <= max_nans\n",
    "df_fill_nans = df_fill_nans[mask]\n",
    "\n",
    "mask = df_fill_nans['alt'].apply(count_nans) <= max_nans\n",
    "df_fill_nans = df_fill_nans[mask]\n",
    "\n",
    "mask = df_fill_nans['dp'].apply(count_nans) <= max_nans\n",
    "df_fill_nans = df_fill_nans[mask]\n",
    "\n",
    "mask = df_fill_nans['tdry'].apply(count_nans) <= max_nans\n",
    "df_fill_nans = df_fill_nans[mask]\n",
    "\n",
    "#adding condition that every file must have at least 1000 observations (using pressure as the proxy)\n",
    "min_elems = 2500\n",
    "mask = df_fill_nans['pres'].apply(count_non_nan) >= min_elems\n",
    "df_fill_nans = df_fill_nans[mask]\n",
    "\n",
    "#adding this in order to interpolate up to 12km, but remove this mask if trying to reproduce specific humidity up to 4km only\n",
    "height_threshold = 20000\n",
    "mask = df_fill_nans['alt'].apply(get_max_alt) >= height_threshold\n",
    "soundings = df_fill_nans[mask]\n",
    "\n",
    "print(\"final df: \",soundings.shape)"
   ]
  },
  {
   "cell_type": "markdown",
   "metadata": {},
   "source": [
    "## Creating Soil Moisture Dataframe"
   ]
  },
  {
   "cell_type": "code",
   "execution_count": 408,
   "metadata": {},
   "outputs": [],
   "source": [
    "#read in soil moisture files:\n",
    "#2001-2019 warm-season\n",
    "\n",
    "directory_path = \"../../data/rong1/climate_fu/Data/DOEARM/sgp/okmsoilX1\"\n",
    "\n",
    "#files are .nc\n",
    "#look like: sgpokmsoilX1.c1.20120901.000000.nc\n",
    "\n",
    "files = [\n",
    "    os.path.join(directory_path, file)\n",
    "    for file in os.listdir(directory_path)\n",
    "    if file.endswith(\".nc\")\n",
    "]\n",
    "\n",
    "filtered_files = []\n",
    "for file in files:\n",
    "    file_name = os.path.basename(file)\n",
    "    if file_name.startswith(\"sgpokmsoilX1\"):\n",
    "        year_month = file_name.split('.')[2]\n",
    "        if len(year_month) == 8:\n",
    "            year = int(year_month[0:4])\n",
    "            month = int(year_month[4:6])\n",
    "            day = int(year_month[6:8])\n",
    "            hours_mins_seconds = file_name.split('.')[3]\n",
    "            hour = int(hours_mins_seconds[0:2])\n",
    "            if 5 <= month <= 9 and 2020 > year > 2000:\n",
    "                filtered_files.append(file)\n",
    "\n",
    "soildfs = []\n",
    "for ds in sorted(filtered_files):\n",
    "    ds = xr.open_dataset(ds)\n",
    "    soildfs.append(ds)"
   ]
  },
  {
   "cell_type": "code",
   "execution_count": 409,
   "metadata": {},
   "outputs": [],
   "source": [
    "#clean soil moisture data\n",
    "def clean_fwi(df):\n",
    "    \n",
    "    min_fwi = 0\n",
    "\n",
    "    max_fwi = 1\n",
    "\n",
    "    fwi = df.variables['fractional_water_index'].data\n",
    "          \n",
    "    mask = ((fwi < min_fwi) | (fwi > max_fwi))\n",
    "\n",
    "    fwi = np.where(mask, np.nan, fwi)\n",
    "    return(fwi)"
   ]
  },
  {
   "cell_type": "code",
   "execution_count": 410,
   "metadata": {},
   "outputs": [
    {
     "data": {
      "text/plain": [
       "(2812, 2)"
      ]
     },
     "execution_count": 410,
     "metadata": {},
     "output_type": "execute_result"
    }
   ],
   "source": [
    "#final soil moisture df \n",
    "\n",
    "closest_station = (36.75442886352539, -97.2545166015625)\n",
    "\n",
    "def find_ll_index(latarray,findlat):\n",
    "    latindex = np.where(latarray == findlat)\n",
    "    lat_pos = latindex[0][0]\n",
    "    return lat_pos\n",
    "\n",
    "fwi_tuples=[]\n",
    "for df in soildfs:\n",
    "    date = time_adjustment(df)\n",
    "    latarray = df.variables['lat'].data\n",
    "    lonarray = df.variables['lon'].data\n",
    "    station = find_ll_index(latarray,closest_station[0])\n",
    "    fwi = clean_fwi(df)\n",
    "    \n",
    "    #[0] means first observation of the day, [1] means 25cm depth\n",
    "    fwi = fwi[0][1][station]\n",
    "    fwi_tuple = (date,fwi)\n",
    "    fwi_tuples.append(fwi_tuple)\n",
    "\n",
    "fwidf = pd.DataFrame(fwi_tuples,columns=['date','fwi'])\n",
    "fwidf = fwidf.dropna()\n",
    "fwidf.shape"
   ]
  },
  {
   "cell_type": "markdown",
   "metadata": {},
   "source": [
    "## Creating Precipitation DataFrame"
   ]
  },
  {
   "cell_type": "code",
   "execution_count": 414,
   "metadata": {},
   "outputs": [],
   "source": [
    "#read in precipitation files:\n",
    "#2001-2019 warm-season\n",
    "\n",
    "directory_path = \"../../data/rong1/climate_fu/Data/DOEARM/sgp/abrfc_final\"\n",
    "\n",
    "#files either .cdf or .nc\n",
    "#file name looks like: sgpabrfcprecipX1.c1.19971231.000000.custom.cdf\n",
    "#file name looks like: sgpabrfcprecipX1.c1.20171231.000000.custom.nc\n",
    "\n",
    "files = [\n",
    "    os.path.join(directory_path, file)\n",
    "    for file in os.listdir(directory_path)\n",
    "    if file.endswith(\".cdf\") or file.endswith(\".nc\")\n",
    "]\n",
    "\n",
    "filtered_files = []\n",
    "for file in files:\n",
    "    file_name = os.path.basename(file)\n",
    "    year_month = file_name.split('.')[2]\n",
    "    if len(year_month) == 8:\n",
    "        year = int(year_month[0:4])\n",
    "        month = int(year_month[4:6])\n",
    "        day = int(year_month[6:8])\n",
    "        hours_mins_seconds = file_name.split('.')[3]\n",
    "        hour = int(hours_mins_seconds[0:2])\n",
    "        if 5 <= month <= 9 and year > 2000:\n",
    "            filtered_files.append(file)\n",
    "\n",
    "pdfs = []\n",
    "for ds in sorted(filtered_files):\n",
    "    ds = xr.open_dataset(ds)\n",
    "    pdfs.append(ds)"
   ]
  },
  {
   "cell_type": "code",
   "execution_count": 416,
   "metadata": {},
   "outputs": [],
   "source": [
    "#clean precipitation -- creating a list of dfs in pdfs with valid precipitation arrays \n",
    "dfsc = []\n",
    "for df in pdfs: \n",
    "    min_p = 0\n",
    "    \n",
    "    #equivalent to 250mm of rain per hour\n",
    "    max_p = 25000\n",
    "\n",
    "    precip = df.variables['precip'].data\n",
    "          \n",
    "    mask = ((precip < min_p) | (precip > max_p))\n",
    "\n",
    "    precip_clean = np.where(mask, np.nan, precip)\n",
    "    \n",
    "    nans = np.sum(np.isnan(precip_clean))\n",
    "    \n",
    "    #filtering out all dfs with more than 0 values outside of range of valid values\n",
    "    if nans == 0.0:\n",
    "        dfsc.append(df)"
   ]
  },
  {
   "cell_type": "code",
   "execution_count": null,
   "metadata": {},
   "outputs": [],
   "source": [
    "#plot of lat/lon boundaries and sgp facility point\n",
    "for i in range(159):\n",
    "    lat = dfs[0].variables[\"lat\"].data[i]\n",
    "    lon = dfs[0].variables[\"lon\"].data[i]\n",
    "    plt.scatter(lon,lat,s=0.1)\n",
    "\n",
    "#surrounding half degree \n",
    "for i,j in enumerate(pairs):\n",
    "    plt.plot(j[1],j[0],marker='o',color='blue',markersize=1)\n",
    "\n",
    "#sgp facility\n",
    "sgp = (36.607322,-97.487643)\n",
    "soil = (36.75443, -97.25452)\n",
    "plt.plot(sgp[1], sgp[0], marker='o', color='red', markersize=5)\n",
    "plt.plot(soil[1],soil[0],marker='o', color='orange', markersize=5)"
   ]
  },
  {
   "cell_type": "code",
   "execution_count": 420,
   "metadata": {},
   "outputs": [
    {
     "name": "stdout",
     "output_type": "stream",
     "text": [
      "598\n"
     ]
    }
   ],
   "source": [
    "#consider changing boundary conditions of lat/lon\n",
    "pairs = []\n",
    "index_of_pairs = []\n",
    "for i in range(160):\n",
    "    for j in range(336):\n",
    "        lat = pdfs[0].variables[\"lat\"].data[i,j]\n",
    "        lon = pdfs[0].variables[\"lon\"].data[i,j]\n",
    "        if 37 > lat > 36 and -97 > lon > -98:\n",
    "            pair = (lat,lon)\n",
    "            index = (i,j)\n",
    "            pairs.append(pair)\n",
    "            index_of_pairs.append(index)\n",
    "print(len(index_of_pairs))"
   ]
  },
  {
   "cell_type": "code",
   "execution_count": 421,
   "metadata": {},
   "outputs": [],
   "source": [
    "p_per_hr = []\n",
    "\n",
    "for df in dfsc:\n",
    "    time = time_adjustment(df)\n",
    "    precip_totals = np.zeros(df.variables['precip'].shape[0])\n",
    "    for index in index_of_pairs:\n",
    "        hrs = df.variables['precip'].shape[0]\n",
    "        for hr in range(hrs):      \n",
    "            p = df.variables['precip'].data[hr,index[0],index[1]]\n",
    "            precip_totals[hr] += p\n",
    "    avg_precip = precip_totals / len(index_of_pairs)\n",
    "\n",
    "    p_per_hr.append((time, avg_precip)) "
   ]
  },
  {
   "cell_type": "code",
   "execution_count": 423,
   "metadata": {},
   "outputs": [],
   "source": [
    "#converting p_per_hr to a df\n",
    "pdf = pd.DataFrame(p_per_hr,columns=['date','avgp'])\n",
    "\n",
    "pdf_time_ranges = pd.DataFrame(columns=['date', 'precip_6_13', 'precip_14_20', 'precip_21_24'])\n",
    "\n",
    "# hours shifted like this because original time in GMT:\n",
    "# 18,19,20,21,22,23,24,1,2,3,4,5,6,7,8,9,10,11,12,13,14,15,16,17\n",
    "\n",
    "for index, row in pdf.iterrows():\n",
    "    date = row['date']\n",
    "    precipitation_array = row['avgp']\n",
    "\n",
    "    precip_6_13 = sum(precipitation_array[12:19])\n",
    "    precip_14_20 = np.sum(np.concatenate((precipitation_array[14:21], precipitation_array[0:2])))\n",
    "    precip_21_24 = sum(precipitation_array[3:6])\n",
    "\n",
    "    pdf_time_ranges = pdf_time_ranges.append({'date': date, 'precip_6_13': precip_6_13, 'precip_14_20': precip_14_20, 'precip_21_24': precip_21_24}, ignore_index=True)\n",
    "    "
   ]
  },
  {
   "cell_type": "code",
   "execution_count": 424,
   "metadata": {},
   "outputs": [
    {
     "data": {
      "text/plain": [
       "(2898, 2)"
      ]
     },
     "execution_count": 424,
     "metadata": {},
     "output_type": "execute_result"
    }
   ],
   "source": [
    "#final precip df\n",
    "pdf_time_ranges['APE'] = (pdf_time_ranges['precip_14_20'] > pdf_time_ranges['precip_6_13']) & \\\n",
    "                (pdf_time_ranges['precip_14_20'] > pdf_time_ranges['precip_21_24']) & \\\n",
    "                (pdf_time_ranges['precip_14_20'] > 2 * pdf_time_ranges['precip_6_13'])\n",
    "\n",
    "pdf = pdf_time_ranges[['date','APE']]\n",
    "pdf.shape"
   ]
  },
  {
   "cell_type": "markdown",
   "metadata": {},
   "source": [
    "## Preprocessing with result dataframe"
   ]
  },
  {
   "cell_type": "code",
   "execution_count": 432,
   "metadata": {},
   "outputs": [
    {
     "data": {
      "text/plain": [
       "(2301, 6)"
      ]
     },
     "execution_count": 432,
     "metadata": {},
     "output_type": "execute_result"
    }
   ],
   "source": [
    "soundings.index = soundings.index.date\n",
    "pdf.set_index('date', inplace=True)\n",
    "fwidf.set_index('date', inplace=True)\n",
    "resultdf = pd.merge(soundings, pd.merge(pdf, fwidf, left_index=True, right_index=True), left_index=True, right_index=True)\n",
    "resultdf.shape"
   ]
  },
  {
   "cell_type": "code",
   "execution_count": 435,
   "metadata": {},
   "outputs": [
    {
     "data": {
      "text/html": [
       "<div>\n",
       "<style scoped>\n",
       "    .dataframe tbody tr th:only-of-type {\n",
       "        vertical-align: middle;\n",
       "    }\n",
       "\n",
       "    .dataframe tbody tr th {\n",
       "        vertical-align: top;\n",
       "    }\n",
       "\n",
       "    .dataframe thead th {\n",
       "        text-align: right;\n",
       "    }\n",
       "</style>\n",
       "<table border=\"1\" class=\"dataframe\">\n",
       "  <thead>\n",
       "    <tr style=\"text-align: right;\">\n",
       "      <th></th>\n",
       "      <th>pres</th>\n",
       "      <th>alt</th>\n",
       "      <th>dp</th>\n",
       "      <th>tdry</th>\n",
       "      <th>APE</th>\n",
       "      <th>fwi</th>\n",
       "    </tr>\n",
       "  </thead>\n",
       "  <tbody>\n",
       "    <tr>\n",
       "      <th>2001-08-02</th>\n",
       "      <td>[984.0, 982.8, 981.6, 980.1, 978.9, 977.7, 976...</td>\n",
       "      <td>[315.0, 326.0, 337.0, 351.0, 362.0, 373.0, 382...</td>\n",
       "      <td>[17.9, 15.5, 16.1, 16.2, 15.7, 15.9, 16.0, 16....</td>\n",
       "      <td>[36.7, 36.3, 35.8, 35.3, 34.8, 34.4, 34.0, 34....</td>\n",
       "      <td>False</td>\n",
       "      <td>0.051589</td>\n",
       "    </tr>\n",
       "    <tr>\n",
       "      <th>2001-08-03</th>\n",
       "      <td>[981.6, 980.4, 979.2, 978.0, 976.6, 974.9, 973...</td>\n",
       "      <td>[315.0, 326.0, 337.0, 348.0, 361.0, 377.0, 392...</td>\n",
       "      <td>[15.5, 11.8, 13.0, 13.0, 13.4, 13.3, 13.2, 13....</td>\n",
       "      <td>[35.7, 33.2, 33.4, 33.4, 33.3, 33.1, 33.0, 32....</td>\n",
       "      <td>True</td>\n",
       "      <td>0.042984</td>\n",
       "    </tr>\n",
       "    <tr>\n",
       "      <th>2001-08-04</th>\n",
       "      <td>[978.9, 978.2, 977.0, 975.6, 973.9, 972.3, 970...</td>\n",
       "      <td>[315.0, 322.0, 333.0, 346.0, 362.0, 377.0, 390...</td>\n",
       "      <td>[15.1, 12.8, 13.0, 13.6, 13.7, 14.1, 14.1, 13....</td>\n",
       "      <td>[36.5, 35.8, 34.7, 34.7, 34.8, 34.7, 34.7, 34....</td>\n",
       "      <td>False</td>\n",
       "      <td>0.051589</td>\n",
       "    </tr>\n",
       "    <tr>\n",
       "      <th>2001-08-05</th>\n",
       "      <td>[979.9, 979.4, 978.7, 977.7, 976.8, 976.1, 975...</td>\n",
       "      <td>[315.0, 319.0, 326.0, 335.0, 344.0, 351.0, 357...</td>\n",
       "      <td>[16.9, 16.1, 15.3, 15.8, 15.7, 15.6, 16.0, 15....</td>\n",
       "      <td>[38.0, 37.0, 35.5, 35.4, 35.3, 35.2, 35.1, 35....</td>\n",
       "      <td>False</td>\n",
       "      <td>0.042984</td>\n",
       "    </tr>\n",
       "    <tr>\n",
       "      <th>2001-08-06</th>\n",
       "      <td>[972.1, 971.8, 971.6, 971.1, 970.9, 970.6, 970...</td>\n",
       "      <td>[315.0, 317.0, 319.0, 324.0, 326.0, 328.0, 331...</td>\n",
       "      <td>[18.3, 18.0, 18.1, 18.2, 17.7, 17.4, 17.5, 17....</td>\n",
       "      <td>[39.0, 38.6, 38.1, 37.6, 37.1, 36.7, 36.3, 35....</td>\n",
       "      <td>False</td>\n",
       "      <td>0.038682</td>\n",
       "    </tr>\n",
       "  </tbody>\n",
       "</table>\n",
       "</div>"
      ],
      "text/plain": [
       "                                                         pres  \\\n",
       "2001-08-02  [984.0, 982.8, 981.6, 980.1, 978.9, 977.7, 976...   \n",
       "2001-08-03  [981.6, 980.4, 979.2, 978.0, 976.6, 974.9, 973...   \n",
       "2001-08-04  [978.9, 978.2, 977.0, 975.6, 973.9, 972.3, 970...   \n",
       "2001-08-05  [979.9, 979.4, 978.7, 977.7, 976.8, 976.1, 975...   \n",
       "2001-08-06  [972.1, 971.8, 971.6, 971.1, 970.9, 970.6, 970...   \n",
       "\n",
       "                                                          alt  \\\n",
       "2001-08-02  [315.0, 326.0, 337.0, 351.0, 362.0, 373.0, 382...   \n",
       "2001-08-03  [315.0, 326.0, 337.0, 348.0, 361.0, 377.0, 392...   \n",
       "2001-08-04  [315.0, 322.0, 333.0, 346.0, 362.0, 377.0, 390...   \n",
       "2001-08-05  [315.0, 319.0, 326.0, 335.0, 344.0, 351.0, 357...   \n",
       "2001-08-06  [315.0, 317.0, 319.0, 324.0, 326.0, 328.0, 331...   \n",
       "\n",
       "                                                           dp  \\\n",
       "2001-08-02  [17.9, 15.5, 16.1, 16.2, 15.7, 15.9, 16.0, 16....   \n",
       "2001-08-03  [15.5, 11.8, 13.0, 13.0, 13.4, 13.3, 13.2, 13....   \n",
       "2001-08-04  [15.1, 12.8, 13.0, 13.6, 13.7, 14.1, 14.1, 13....   \n",
       "2001-08-05  [16.9, 16.1, 15.3, 15.8, 15.7, 15.6, 16.0, 15....   \n",
       "2001-08-06  [18.3, 18.0, 18.1, 18.2, 17.7, 17.4, 17.5, 17....   \n",
       "\n",
       "                                                         tdry    APE       fwi  \n",
       "2001-08-02  [36.7, 36.3, 35.8, 35.3, 34.8, 34.4, 34.0, 34....  False  0.051589  \n",
       "2001-08-03  [35.7, 33.2, 33.4, 33.4, 33.3, 33.1, 33.0, 32....   True  0.042984  \n",
       "2001-08-04  [36.5, 35.8, 34.7, 34.7, 34.8, 34.7, 34.7, 34....  False  0.051589  \n",
       "2001-08-05  [38.0, 37.0, 35.5, 35.4, 35.3, 35.2, 35.1, 35....  False  0.042984  \n",
       "2001-08-06  [39.0, 38.6, 38.1, 37.6, 37.1, 36.7, 36.3, 35....  False  0.038682  "
      ]
     },
     "execution_count": 435,
     "metadata": {},
     "output_type": "execute_result"
    }
   ],
   "source": [
    "resultdf.head()"
   ]
  },
  {
   "cell_type": "code",
   "execution_count": 436,
   "metadata": {},
   "outputs": [],
   "source": [
    "columns_to_keep = ['pres','tdry','dp','fwi','APE']\n",
    "\n",
    "apes = resultdf[columns_to_keep]\n",
    "\n",
    "new_cols = {'pres': 'pres',\n",
    "            'tdry': 'temp',\n",
    "            'dp': 'dp',\n",
    "            'fwi': 'fwi',\n",
    "            'APE': 'ape'\n",
    "           }\n",
    "\n",
    "apes.rename(columns=new_cols, inplace=True)\n",
    "\n",
    "sfc_df = pd.DataFrame()\n",
    "for col in apes.columns:\n",
    "    if isinstance(apes[col][0], np.ndarray) or isinstance(apes[col][0], list):\n",
    "        sfc_df[col] = apes[col].apply(lambda x: x[0])\n",
    "    else:\n",
    "        sfc_df[col] = apes[col]"
   ]
  },
  {
   "cell_type": "code",
   "execution_count": 437,
   "metadata": {},
   "outputs": [
    {
     "data": {
      "image/png": "[encoded data removed]",
      "text/plain": [
       "<Figure size 3000x2000 with 4 Axes>"
      ]
     },
     "metadata": {},
     "output_type": "display_data"
    }
   ],
   "source": [
    "features = list(sfc_df.columns)\n",
    "features.remove('ape')\n",
    "plt.subplots(figsize=(30,20))\n",
    " \n",
    "for i, col in enumerate(features):\n",
    "    plt.subplot(8,12, i + 1)\n",
    "    sb.distplot(sfc_df[col])\n",
    "plt.tight_layout()\n",
    "plt.show()"
   ]
  },
  {
   "cell_type": "code",
   "execution_count": 438,
   "metadata": {},
   "outputs": [
    {
     "data": {
      "image/png": "[encoded data removed]",
      "text/plain": [
       "<Figure size 3000x2000 with 4 Axes>"
      ]
     },
     "metadata": {},
     "output_type": "display_data"
    }
   ],
   "source": [
    "plt.subplots(figsize=(30,20))\n",
    " \n",
    "for i, col in enumerate(features):\n",
    "    plt.subplot(8,12, i + 1)\n",
    "    sb.boxplot(data=sfc_df[col], orient='h')\n",
    "    plt.xlabel(col)\n",
    "plt.tight_layout()\n",
    "plt.show()"
   ]
  },
  {
   "cell_type": "code",
   "execution_count": 461,
   "metadata": {},
   "outputs": [
    {
     "data": {
      "image/png": "[encoded data removed]",
      "text/plain": [
       "<Figure size 1000x1000 with 1 Axes>"
      ]
     },
     "metadata": {},
     "output_type": "display_data"
    }
   ],
   "source": [
    "plt.figure(figsize=(10,10))\n",
    "sb.heatmap(sfc_df.corr() > 0.8,\n",
    "           annot=True,\n",
    "           cbar=False)\n",
    "plt.show()"
   ]
  },
  {
   "cell_type": "markdown",
   "metadata": {},
   "source": [
    "## Modeling steps"
   ]
  },
  {
   "cell_type": "code",
   "execution_count": 440,
   "metadata": {},
   "outputs": [
    {
     "name": "stdout",
     "output_type": "stream",
     "text": [
      "Best hyperparameters: {'max_depth': 27, 'n_estimators': 410}\n"
     ]
    }
   ],
   "source": [
    "features = sfc_df.drop('ape', axis=1)\n",
    "target = sfc_df.ape\n",
    "\n",
    "X_train, X_test, y_train, y_test = train_test_split(features,\n",
    "                                      target,\n",
    "                                      test_size=0.2,\n",
    "                                      stratify=target,\n",
    "                                      random_state=2)\n",
    " \n",
    "ros = RandomOverSampler(sampling_strategy='minority',\n",
    "                        random_state=22)\n",
    "\n",
    "X_resampled, y_resampled = ros.fit_resample(X_train, y_train)\n",
    "\n",
    "# scaler = StandardScaler()\n",
    "# X = scaler.fit_transform(X_resampled)\n",
    "# X_test = scaler.transform(X_test)\n",
    "\n",
    "param_dist = {'n_estimators': randint(50, 500),\n",
    "              'max_depth': randint(1, 50)} \n",
    "\n",
    "rf = RandomForestClassifier()\n",
    "\n",
    "rand_search = RandomizedSearchCV(rf, \n",
    "                                 param_distributions = param_dist, \n",
    "                                 n_iter=5, \n",
    "                                 cv=5)\n",
    "\n",
    "rand_search.fit(X_resampled, y_resampled)\n",
    "\n",
    "best_rf = rand_search.best_estimator_\n",
    "\n",
    "print('Best hyperparameters:',  rand_search.best_params_)"
   ]
  },
  {
   "cell_type": "code",
   "execution_count": 441,
   "metadata": {},
   "outputs": [
    {
     "name": "stdout",
     "output_type": "stream",
     "text": [
      "Accuracy: 0.7765726681127982\n"
     ]
    }
   ],
   "source": [
    "y_pred = best_rf.predict(X_test)\n",
    "accuracy = accuracy_score(y_test, y_pred)\n",
    "\n",
    "print(\"Accuracy:\", accuracy)"
   ]
  },
  {
   "cell_type": "code",
   "execution_count": 462,
   "metadata": {},
   "outputs": [
    {
     "data": {
      "image/png": "[encoded data removed]",
      "text/plain": [
       "<Figure size 640x480 with 1 Axes>"
      ]
     },
     "metadata": {},
     "output_type": "display_data"
    }
   ],
   "source": [
    "feature_importances = pd.Series(best_rf.feature_importances_, index=X_test.columns).sort_values(ascending=False)\n",
    "plt.xlabel('Features')\n",
    "plt.ylabel('Importance')\n",
    "feature_importances.plot.bar();"
   ]
  },
  {
   "cell_type": "code",
   "execution_count": 450,
   "metadata": {},
   "outputs": [
    {
     "data": {
      "text/plain": [
       "1    0.255764\n",
       "2    0.250610\n",
       "0    0.249121\n",
       "3    0.244506\n",
       "dtype: float64"
      ]
     },
     "execution_count": 450,
     "metadata": {},
     "output_type": "execute_result"
    }
   ],
   "source": [
    "l = best_rf.feature_importances_\n",
    "pd.Series(l).sort_values(ascending=False)"
   ]
  },
  {
   "cell_type": "code",
   "execution_count": 452,
   "metadata": {},
   "outputs": [
    {
     "data": {
      "image/png": "[encoded data removed]",
      "text/plain": [
       "<Figure size 600x400 with 1 Axes>"
      ]
     },
     "metadata": {},
     "output_type": "display_data"
    }
   ],
   "source": [
    "from sklearn.metrics import confusion_matrix\n",
    "import seaborn as sns\n",
    "\n",
    "cm = confusion_matrix(y_test, y_pred)\n",
    "\n",
    "plt.figure(figsize=(6, 4))\n",
    "sns.heatmap(cm, annot=True, fmt='d', cmap='Blues', cbar=False,\n",
    "            xticklabels=['Predicted 0', 'Predicted 1'],\n",
    "            yticklabels=['Actual 0', 'Actual 1'])\n",
    "plt.title('Confusion Matrix')\n",
    "plt.xlabel('Predicted')\n",
    "plt.ylabel('Actual')\n",
    "plt.show()"
   ]
  }
 ],
 "metadata": {
  "kernelspec": {
   "display_name": "annieenv",
   "language": "python",
   "name": "annieenv"
  },
  "language_info": {
   "codemirror_mode": {
    "name": "ipython",
    "version": 3
   },
   "file_extension": ".py",
   "mimetype": "text/x-python",
   "name": "python",
   "nbconvert_exporter": "python",
   "pygments_lexer": "ipython3",
   "version": "3.9.13"
  }
 },
 "nbformat": 4,
 "nbformat_minor": 2
}
