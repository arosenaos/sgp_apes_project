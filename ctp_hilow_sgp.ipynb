{
 "cells": [
  {
   "cell_type": "code",
   "execution_count": null,
   "metadata": {},
   "outputs": [],
   "source": [
    "# NARR download script for dewpoint and temperature\n",
    "\n",
    "import os\n",
    "import subprocess\n",
    "\n",
    "# Base URL for NARR pressure-level data\n",
    "base_url = \"https://downloads.psl.noaa.gov/Datasets/NARR/Dailies/pressure/\"\n",
    "\n",
    "# Variables to download\n",
    "variables = [\"air\", \"dpt\"]  # Temperature and dewpoint\n",
    "\n",
    "# Domain of interest\n",
    "lon_min, lon_max = -105, -95\n",
    "lat_min, lat_max = 30, 39\n",
    "\n",
    "# Time range\n",
    "start_year = 2001\n",
    "end_year = 2019\n",
    "\n",
    "# Output directory\n",
    "output_dir = \"./narr_pressure_profiles/\"\n",
    "os.makedirs(output_dir, exist_ok=True)\n",
    "\n",
    "# Download function\n",
    "def download_data(variable, year):\n",
    "    \"\"\"\n",
    "    Download NARR pressure-level data for a specific variable and year using wget.\n",
    "    \"\"\"\n",
    "    file_name = f\"{variable}.{year}.nc\"\n",
    "    file_url = f\"{base_url}{file_name}\"\n",
    "    output_path = os.path.join(output_dir, file_name)\n",
    "\n",
    "    # Skip download if file already exists\n",
    "    if os.path.exists(output_path):\n",
    "        print(f\"File already exists: {output_path}\")\n",
    "        return\n",
    "\n",
    "    # Run wget command\n",
    "    try:\n",
    "        print(f\"Downloading {file_name}...\")\n",
    "        subprocess.run([\"wget\", \"-O\", output_path, file_url], check=True)\n",
    "    except subprocess.CalledProcessError as e:\n",
    "        print(f\"Failed to download {file_name}: {e}\")\n",
    "\n",
    "# Loop through variables and years\n",
    "for variable in variables:\n",
    "    for year in range(start_year, end_year + 1):\n",
    "        download_data(variable, year)\n",
    "\n",
    "# Inform user of completion\n",
    "print(f\"Data download completed. Files saved in {output_dir}.\")"
   ]
  }
 ],
 "metadata": {
  "kernelspec": {
   "display_name": "annieenv",
   "language": "python",
   "name": "annieenv"
  },
  "language_info": {
   "codemirror_mode": {
    "name": "ipython",
    "version": 3
   },
   "file_extension": ".py",
   "mimetype": "text/x-python",
   "name": "python",
   "nbconvert_exporter": "python",
   "pygments_lexer": "ipython3",
   "version": "3.9.19"
  }
 },
 "nbformat": 4,
 "nbformat_minor": 2
}
